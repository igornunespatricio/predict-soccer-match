{
 "cells": [
  {
   "cell_type": "code",
   "execution_count": 18,
   "id": "7c923397",
   "metadata": {},
   "outputs": [
    {
     "name": "stdout",
     "output_type": "stream",
     "text": [
      "200\n",
      "['29/03/2025 18:30', 'São Paulo', '0 x 0', 'Sport', 'Morumbi', 'VER PARTIDA']\n",
      "--------------------------------------------------\n",
      "['29/03/2025 18:30', 'Cruzeiro', '2 x 1', 'Mirassol', 'Mineirão', 'VER PARTIDA']\n",
      "--------------------------------------------------\n",
      "['29/03/2025 18:30', 'Grêmio', '2 x 1', 'Atlético-MG', 'Arena do Grêmio', 'VER PARTIDA']\n",
      "--------------------------------------------------\n",
      "['29/03/2025 18:30', 'Fortaleza', '2 x 0', 'Fluminense', 'Castelão (CE)', 'VER PARTIDA']\n",
      "--------------------------------------------------\n",
      "['29/03/2025 18:30', 'Juventude', '2 x 0', 'Vitória', 'Alfredo Jaconi', 'VER PARTIDA']\n",
      "--------------------------------------------------\n",
      "['29/03/2025 21:00', 'Flamengo', '1 x 1', 'Internacional', 'Maracanã', 'VER PARTIDA']\n",
      "--------------------------------------------------\n",
      "['30/03/2025 16:00', 'Palmeiras', '0 x 0', 'Botafogo', 'Arena Palmeiras', 'VER PARTIDA']\n",
      "--------------------------------------------------\n",
      "['30/03/2025 18:30', 'Vasco', '2 x 1', 'Santos', 'São Januário', 'VER PARTIDA']\n",
      "--------------------------------------------------\n",
      "['30/03/2025 20:00', 'Bahia', '1 x 1', 'Corinthians', 'Fonte Nova', 'VER PARTIDA']\n",
      "--------------------------------------------------\n",
      "['31/03/2025 20:00', 'Bragantino', '2 x 2', 'Ceará', 'Nabi Abi Chedid', 'VER PARTIDA']\n",
      "--------------------------------------------------\n"
     ]
    }
   ],
   "source": [
    "import requests\n",
    "from bs4 import BeautifulSoup\n",
    "\n",
    "base_link = (\n",
    "    \"https://www.api-futebol.com.br/campeonato/campeonato-brasileiro/2025/rodada/1\"\n",
    ")\n",
    "\n",
    "\n",
    "response = requests.get(base_link)\n",
    "\n",
    "print(response.status_code)\n",
    "content = response.content\n",
    "\n",
    "soup = BeautifulSoup(content, 'html.parser')\n",
    "round_number = soup.find('h6', class_='mb-0 mt-1')\n",
    "\n",
    "\n",
    "games = soup.find_all('div', class_='card p-1 border-top-0 border-right border-left border-bottom rounded-0 bg-white text-center')\n",
    "for game in games:\n",
    "    list_of_info = game.text.split('\\n')\n",
    "    # remove empty strings\n",
    "    cleaned_list = list(filter(None, list_of_info))\n",
    "    print(cleaned_list)\n",
    "    print(\"-\"*50)\n"
   ]
  }
 ],
 "metadata": {
  "kernelspec": {
   "display_name": ".venv",
   "language": "python",
   "name": "python3"
  },
  "language_info": {
   "codemirror_mode": {
    "name": "ipython",
    "version": 3
   },
   "file_extension": ".py",
   "mimetype": "text/x-python",
   "name": "python",
   "nbconvert_exporter": "python",
   "pygments_lexer": "ipython3",
   "version": "3.10.0"
  }
 },
 "nbformat": 4,
 "nbformat_minor": 5
}
